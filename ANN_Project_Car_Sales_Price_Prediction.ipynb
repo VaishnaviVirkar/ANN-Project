{
 "cells": [
  {
   "cell_type": "markdown",
   "id": "4bae82dd",
   "metadata": {},
   "source": [
    "## Car Sales Price Prediction\n",
    "                            "
   ]
  },
  {
   "cell_type": "markdown",
   "id": "8ea595e0",
   "metadata": {},
   "source": [
    "## Import required libraries"
   ]
  },
  {
   "cell_type": "code",
   "execution_count": 1,
   "id": "74c9fa86",
   "metadata": {},
   "outputs": [],
   "source": [
    "import pandas as pd\n",
    "import numpy as np\n",
    "import seaborn as sns\n",
    "import matplotlib.pyplot as plt\n",
    "import plotly.express as px\n",
    "import warnings\n",
    "warnings.filterwarnings('ignore')"
   ]
  },
  {
   "cell_type": "code",
   "execution_count": 2,
   "id": "1a732651",
   "metadata": {},
   "outputs": [],
   "source": [
    "df=pd.read_csv(\"car_purchasing.csv\",encoding='ISO-8859-1')"
   ]
  },
  {
   "cell_type": "code",
   "execution_count": 3,
   "id": "af629461",
   "metadata": {},
   "outputs": [
    {
     "data": {
      "text/html": [
       "<div>\n",
       "<style scoped>\n",
       "    .dataframe tbody tr th:only-of-type {\n",
       "        vertical-align: middle;\n",
       "    }\n",
       "\n",
       "    .dataframe tbody tr th {\n",
       "        vertical-align: top;\n",
       "    }\n",
       "\n",
       "    .dataframe thead th {\n",
       "        text-align: right;\n",
       "    }\n",
       "</style>\n",
       "<table border=\"1\" class=\"dataframe\">\n",
       "  <thead>\n",
       "    <tr style=\"text-align: right;\">\n",
       "      <th></th>\n",
       "      <th>customer name</th>\n",
       "      <th>customer e-mail</th>\n",
       "      <th>country</th>\n",
       "      <th>gender</th>\n",
       "      <th>age</th>\n",
       "      <th>annual Salary</th>\n",
       "      <th>credit card debt</th>\n",
       "      <th>net worth</th>\n",
       "      <th>car purchase amount</th>\n",
       "    </tr>\n",
       "  </thead>\n",
       "  <tbody>\n",
       "    <tr>\n",
       "      <th>0</th>\n",
       "      <td>Martina Avila</td>\n",
       "      <td>cubilia.Curae.Phasellus@quisaccumsanconvallis.edu</td>\n",
       "      <td>Bulgaria</td>\n",
       "      <td>0</td>\n",
       "      <td>41.851720</td>\n",
       "      <td>62812.09301</td>\n",
       "      <td>11609.380910</td>\n",
       "      <td>238961.2505</td>\n",
       "      <td>35321.45877</td>\n",
       "    </tr>\n",
       "    <tr>\n",
       "      <th>1</th>\n",
       "      <td>Harlan Barnes</td>\n",
       "      <td>eu.dolor@diam.co.uk</td>\n",
       "      <td>Belize</td>\n",
       "      <td>0</td>\n",
       "      <td>40.870623</td>\n",
       "      <td>66646.89292</td>\n",
       "      <td>9572.957136</td>\n",
       "      <td>530973.9078</td>\n",
       "      <td>45115.52566</td>\n",
       "    </tr>\n",
       "    <tr>\n",
       "      <th>2</th>\n",
       "      <td>Naomi Rodriquez</td>\n",
       "      <td>vulputate.mauris.sagittis@ametconsectetueradip...</td>\n",
       "      <td>Algeria</td>\n",
       "      <td>1</td>\n",
       "      <td>43.152897</td>\n",
       "      <td>53798.55112</td>\n",
       "      <td>11160.355060</td>\n",
       "      <td>638467.1773</td>\n",
       "      <td>42925.70921</td>\n",
       "    </tr>\n",
       "    <tr>\n",
       "      <th>3</th>\n",
       "      <td>Jade Cunningham</td>\n",
       "      <td>malesuada@dignissim.com</td>\n",
       "      <td>Cook Islands</td>\n",
       "      <td>1</td>\n",
       "      <td>58.271369</td>\n",
       "      <td>79370.03798</td>\n",
       "      <td>14426.164850</td>\n",
       "      <td>548599.0524</td>\n",
       "      <td>67422.36313</td>\n",
       "    </tr>\n",
       "    <tr>\n",
       "      <th>4</th>\n",
       "      <td>Cedric Leach</td>\n",
       "      <td>felis.ullamcorper.viverra@egetmollislectus.net</td>\n",
       "      <td>Brazil</td>\n",
       "      <td>1</td>\n",
       "      <td>57.313749</td>\n",
       "      <td>59729.15130</td>\n",
       "      <td>5358.712177</td>\n",
       "      <td>560304.0671</td>\n",
       "      <td>55915.46248</td>\n",
       "    </tr>\n",
       "  </tbody>\n",
       "</table>\n",
       "</div>"
      ],
      "text/plain": [
       "     customer name                                    customer e-mail  \\\n",
       "0    Martina Avila  cubilia.Curae.Phasellus@quisaccumsanconvallis.edu   \n",
       "1    Harlan Barnes                                eu.dolor@diam.co.uk   \n",
       "2  Naomi Rodriquez  vulputate.mauris.sagittis@ametconsectetueradip...   \n",
       "3  Jade Cunningham                            malesuada@dignissim.com   \n",
       "4     Cedric Leach     felis.ullamcorper.viverra@egetmollislectus.net   \n",
       "\n",
       "        country  gender        age  annual Salary  credit card debt  \\\n",
       "0      Bulgaria       0  41.851720    62812.09301      11609.380910   \n",
       "1        Belize       0  40.870623    66646.89292       9572.957136   \n",
       "2       Algeria       1  43.152897    53798.55112      11160.355060   \n",
       "3  Cook Islands       1  58.271369    79370.03798      14426.164850   \n",
       "4        Brazil       1  57.313749    59729.15130       5358.712177   \n",
       "\n",
       "     net worth  car purchase amount  \n",
       "0  238961.2505          35321.45877  \n",
       "1  530973.9078          45115.52566  \n",
       "2  638467.1773          42925.70921  \n",
       "3  548599.0524          67422.36313  \n",
       "4  560304.0671          55915.46248  "
      ]
     },
     "execution_count": 3,
     "metadata": {},
     "output_type": "execute_result"
    }
   ],
   "source": [
    "df.head()"
   ]
  },
  {
   "cell_type": "markdown",
   "id": "9f7accfd",
   "metadata": {},
   "source": [
    "## Data Preprocessing & Cleaning\n"
   ]
  },
  {
   "cell_type": "markdown",
   "id": "bdd43598",
   "metadata": {},
   "source": [
    "Preprocessing & Cleaning data to ensure that it is in a format that the network can accept is a common first step in deep learning workflows."
   ]
  },
  {
   "cell_type": "code",
   "execution_count": 4,
   "id": "6e8d86a9",
   "metadata": {},
   "outputs": [
    {
     "name": "stdout",
     "output_type": "stream",
     "text": [
      "<class 'pandas.core.frame.DataFrame'>\n",
      "RangeIndex: 500 entries, 0 to 499\n",
      "Data columns (total 9 columns):\n",
      " #   Column               Non-Null Count  Dtype  \n",
      "---  ------               --------------  -----  \n",
      " 0   customer name        500 non-null    object \n",
      " 1   customer e-mail      500 non-null    object \n",
      " 2   country              500 non-null    object \n",
      " 3   gender               500 non-null    int64  \n",
      " 4   age                  500 non-null    float64\n",
      " 5   annual Salary        500 non-null    float64\n",
      " 6   credit card debt     500 non-null    float64\n",
      " 7   net worth            500 non-null    float64\n",
      " 8   car purchase amount  500 non-null    float64\n",
      "dtypes: float64(5), int64(1), object(3)\n",
      "memory usage: 35.3+ KB\n"
     ]
    }
   ],
   "source": [
    "df.info()"
   ]
  },
  {
   "cell_type": "code",
   "execution_count": 5,
   "id": "92aaa70b",
   "metadata": {},
   "outputs": [
    {
     "data": {
      "text/plain": [
       "customer name          0\n",
       "customer e-mail        0\n",
       "country                0\n",
       "gender                 0\n",
       "age                    0\n",
       "annual Salary          0\n",
       "credit card debt       0\n",
       "net worth              0\n",
       "car purchase amount    0\n",
       "dtype: int64"
      ]
     },
     "execution_count": 5,
     "metadata": {},
     "output_type": "execute_result"
    }
   ],
   "source": [
    "df.isnull().sum()"
   ]
  },
  {
   "cell_type": "markdown",
   "id": "a74bc625",
   "metadata": {},
   "source": [
    "## Droping the columns which are not needed"
   ]
  },
  {
   "cell_type": "code",
   "execution_count": 6,
   "id": "95a89219",
   "metadata": {},
   "outputs": [],
   "source": [
    "df.drop(columns=['customer name', 'customer e-mail', 'country', 'gender'],inplace=True)"
   ]
  },
  {
   "cell_type": "code",
   "execution_count": 7,
   "id": "3652e62c",
   "metadata": {},
   "outputs": [
    {
     "name": "stdout",
     "output_type": "stream",
     "text": [
      "<class 'pandas.core.frame.DataFrame'>\n",
      "RangeIndex: 500 entries, 0 to 499\n",
      "Data columns (total 5 columns):\n",
      " #   Column               Non-Null Count  Dtype  \n",
      "---  ------               --------------  -----  \n",
      " 0   age                  500 non-null    float64\n",
      " 1   annual Salary        500 non-null    float64\n",
      " 2   credit card debt     500 non-null    float64\n",
      " 3   net worth            500 non-null    float64\n",
      " 4   car purchase amount  500 non-null    float64\n",
      "dtypes: float64(5)\n",
      "memory usage: 19.7 KB\n"
     ]
    }
   ],
   "source": [
    "df.info()"
   ]
  },
  {
   "cell_type": "markdown",
   "id": "2fd47df3",
   "metadata": {},
   "source": [
    "## Train test split"
   ]
  },
  {
   "cell_type": "code",
   "execution_count": 8,
   "id": "9e466607",
   "metadata": {},
   "outputs": [],
   "source": [
    "X=df.drop('car purchase amount', axis=1)\n",
    "y=df['car purchase amount']"
   ]
  },
  {
   "cell_type": "markdown",
   "id": "a74165ba",
   "metadata": {},
   "source": [
    "## Data Scaling"
   ]
  },
  {
   "cell_type": "markdown",
   "id": "89a7afe0",
   "metadata": {},
   "source": [
    "Data scaling is the process of transforming the values of the features of a dataset till they are within a specific range, e.g. 0 to 1 or -1 to 1. This is to ensure that no single feature dominates the distance calculations in an algorithm, and can help to improve the performance of the algorithm."
   ]
  },
  {
   "cell_type": "code",
   "execution_count": 9,
   "id": "74fbeacb",
   "metadata": {},
   "outputs": [],
   "source": [
    "from sklearn.preprocessing import MinMaxScaler\n",
    "scaler=MinMaxScaler()\n",
    "\n",
    "X=scaler.fit_transform(X)\n",
    "y=scaler.fit_transform(y.values.reshape(-1,1))\n"
   ]
  },
  {
   "cell_type": "code",
   "execution_count": 10,
   "id": "9cd9b233",
   "metadata": {},
   "outputs": [],
   "source": [
    "from sklearn.model_selection import train_test_split\n",
    "X_train, X_test, y_train, y_test = train_test_split(X, y, test_size=0.2, random_state=0)"
   ]
  },
  {
   "cell_type": "code",
   "execution_count": 11,
   "id": "05c0624c",
   "metadata": {},
   "outputs": [
    {
     "name": "stdout",
     "output_type": "stream",
     "text": [
      "(400, 4)\n",
      "(100, 4)\n",
      "(400, 1)\n",
      "(100, 1)\n"
     ]
    }
   ],
   "source": [
    "print(X_train.shape)\n",
    "print(X_test.shape)\n",
    "print(y_train.shape)\n",
    "print(y_test.shape)"
   ]
  },
  {
   "cell_type": "markdown",
   "id": "4a0a5add",
   "metadata": {},
   "source": [
    "## Model structure"
   ]
  },
  {
   "cell_type": "raw",
   "id": "633382b9",
   "metadata": {},
   "source": [
    "Steps to build a Neural Network using Keras\n",
    "1.Loading the dataset.\n",
    "2.Creating training and validation set\n",
    "3.Defining architecture of the model\n",
    "  How many input neurons we want\n",
    "  How many hidden layers and hidden neurons should be there\n",
    "  What would be the number of neurons in the Output layer\n",
    "All above points will be defined while make architecture of the model\n",
    "4.Compiling the model (defining loss function, optimizer)\n",
    "  Define Loss Function\n",
    "  Define Optimizers\n",
    "5.Keras Framework have pre-written code for different Loss Functions like:\n",
    "  MSE\n",
    "  Binary Cross Entropy….\n",
    "It also supports diff optimizers like:\n",
    "  SGD\n",
    "  RMSprop\n",
    "  Adam\n",
    "6.Training the model\n",
    "  While training model define Epochs\n",
    "7.Evaluating model performance on training and validation set\n"
   ]
  },
  {
   "cell_type": "code",
   "execution_count": 12,
   "id": "8a312c4b",
   "metadata": {},
   "outputs": [
    {
     "name": "stdout",
     "output_type": "stream",
     "text": [
      "WARNING:tensorflow:From C:\\Users\\USER\\Documents\\ANACONDA\\Lib\\site-packages\\keras\\src\\losses.py:2976: The name tf.losses.sparse_softmax_cross_entropy is deprecated. Please use tf.compat.v1.losses.sparse_softmax_cross_entropy instead.\n",
      "\n"
     ]
    }
   ],
   "source": [
    "import tensorflow as tf\n"
   ]
  },
  {
   "cell_type": "code",
   "execution_count": 13,
   "id": "ebc56e94",
   "metadata": {},
   "outputs": [],
   "source": [
    "from tensorflow.keras.layers import Dense\n",
    "from tensorflow.keras.models import Sequential"
   ]
  },
  {
   "cell_type": "code",
   "execution_count": 14,
   "id": "cd6efec5",
   "metadata": {},
   "outputs": [
    {
     "name": "stdout",
     "output_type": "stream",
     "text": [
      "WARNING:tensorflow:From C:\\Users\\USER\\Documents\\ANACONDA\\Lib\\site-packages\\keras\\src\\backend.py:873: The name tf.get_default_graph is deprecated. Please use tf.compat.v1.get_default_graph instead.\n",
      "\n",
      "WARNING:tensorflow:From C:\\Users\\USER\\Documents\\ANACONDA\\Lib\\site-packages\\keras\\src\\optimizers\\__init__.py:309: The name tf.train.Optimizer is deprecated. Please use tf.compat.v1.train.Optimizer instead.\n",
      "\n",
      "Model: \"sequential\"\n",
      "_________________________________________________________________\n",
      " Layer (type)                Output Shape              Param #   \n",
      "=================================================================\n",
      " dense (Dense)               (None, 10)                50        \n",
      "                                                                 \n",
      " dense_1 (Dense)             (None, 10)                110       \n",
      "                                                                 \n",
      " dense_2 (Dense)             (None, 1)                 11        \n",
      "                                                                 \n",
      "=================================================================\n",
      "Total params: 171 (684.00 Byte)\n",
      "Trainable params: 171 (684.00 Byte)\n",
      "Non-trainable params: 0 (0.00 Byte)\n",
      "_________________________________________________________________\n"
     ]
    }
   ],
   "source": [
    "model = Sequential()\n",
    "model.add(Dense(10, activation='relu', input_dim=4))\n",
    "model.add(Dense(10, activation='relu'))\n",
    "model.add(Dense(1, activation='linear'))\n",
    "\n",
    "model.compile(optimizer='adam', loss='mean_squared_error', metrics=['mean_absolute_error'])\n",
    "model.summary()"
   ]
  },
  {
   "cell_type": "markdown",
   "id": "3be62b63",
   "metadata": {},
   "source": [
    "## Model Training"
   ]
  },
  {
   "cell_type": "code",
   "execution_count": 15,
   "id": "2371cc35",
   "metadata": {},
   "outputs": [
    {
     "name": "stdout",
     "output_type": "stream",
     "text": [
      "Epoch 1/100\n",
      "WARNING:tensorflow:From C:\\Users\\USER\\Documents\\ANACONDA\\Lib\\site-packages\\keras\\src\\utils\\tf_utils.py:492: The name tf.ragged.RaggedTensorValue is deprecated. Please use tf.compat.v1.ragged.RaggedTensorValue instead.\n",
      "\n",
      "WARNING:tensorflow:From C:\\Users\\USER\\Documents\\ANACONDA\\Lib\\site-packages\\keras\\src\\engine\\base_layer_utils.py:384: The name tf.executing_eagerly_outside_functions is deprecated. Please use tf.compat.v1.executing_eagerly_outside_functions instead.\n",
      "\n",
      "10/10 [==============================] - 3s 56ms/step - loss: 0.4995 - mean_absolute_error: 0.6824 - val_loss: 0.4734 - val_mean_absolute_error: 0.6623\n",
      "Epoch 2/100\n",
      "10/10 [==============================] - 0s 9ms/step - loss: 0.4077 - mean_absolute_error: 0.6157 - val_loss: 0.4034 - val_mean_absolute_error: 0.6099\n",
      "Epoch 3/100\n",
      "10/10 [==============================] - 0s 9ms/step - loss: 0.3445 - mean_absolute_error: 0.5643 - val_loss: 0.3436 - val_mean_absolute_error: 0.5607\n",
      "Epoch 4/100\n",
      "10/10 [==============================] - 0s 12ms/step - loss: 0.2839 - mean_absolute_error: 0.5092 - val_loss: 0.2773 - val_mean_absolute_error: 0.4998\n",
      "Epoch 5/100\n",
      "10/10 [==============================] - 0s 11ms/step - loss: 0.2193 - mean_absolute_error: 0.4434 - val_loss: 0.2093 - val_mean_absolute_error: 0.4286\n",
      "Epoch 6/100\n",
      "10/10 [==============================] - 0s 10ms/step - loss: 0.1582 - mean_absolute_error: 0.3719 - val_loss: 0.1518 - val_mean_absolute_error: 0.3580\n",
      "Epoch 7/100\n",
      "10/10 [==============================] - 0s 10ms/step - loss: 0.1103 - mean_absolute_error: 0.3050 - val_loss: 0.1066 - val_mean_absolute_error: 0.2918\n",
      "Epoch 8/100\n",
      "10/10 [==============================] - 0s 9ms/step - loss: 0.0739 - mean_absolute_error: 0.2438 - val_loss: 0.0728 - val_mean_absolute_error: 0.2325\n",
      "Epoch 9/100\n",
      "10/10 [==============================] - 0s 10ms/step - loss: 0.0482 - mean_absolute_error: 0.1915 - val_loss: 0.0487 - val_mean_absolute_error: 0.1825\n",
      "Epoch 10/100\n",
      "10/10 [==============================] - 0s 9ms/step - loss: 0.0316 - mean_absolute_error: 0.1502 - val_loss: 0.0327 - val_mean_absolute_error: 0.1444\n",
      "Epoch 11/100\n",
      "10/10 [==============================] - 0s 9ms/step - loss: 0.0216 - mean_absolute_error: 0.1202 - val_loss: 0.0231 - val_mean_absolute_error: 0.1178\n",
      "Epoch 12/100\n",
      "10/10 [==============================] - 0s 10ms/step - loss: 0.0160 - mean_absolute_error: 0.1008 - val_loss: 0.0180 - val_mean_absolute_error: 0.1036\n",
      "Epoch 13/100\n",
      "10/10 [==============================] - 0s 9ms/step - loss: 0.0135 - mean_absolute_error: 0.0915 - val_loss: 0.0155 - val_mean_absolute_error: 0.0975\n",
      "Epoch 14/100\n",
      "10/10 [==============================] - 0s 10ms/step - loss: 0.0126 - mean_absolute_error: 0.0882 - val_loss: 0.0143 - val_mean_absolute_error: 0.0950\n",
      "Epoch 15/100\n",
      "10/10 [==============================] - 0s 10ms/step - loss: 0.0122 - mean_absolute_error: 0.0867 - val_loss: 0.0137 - val_mean_absolute_error: 0.0939\n",
      "Epoch 16/100\n",
      "10/10 [==============================] - 0s 12ms/step - loss: 0.0120 - mean_absolute_error: 0.0861 - val_loss: 0.0135 - val_mean_absolute_error: 0.0932\n",
      "Epoch 17/100\n",
      "10/10 [==============================] - 0s 12ms/step - loss: 0.0119 - mean_absolute_error: 0.0857 - val_loss: 0.0133 - val_mean_absolute_error: 0.0927\n",
      "Epoch 18/100\n",
      "10/10 [==============================] - 0s 9ms/step - loss: 0.0117 - mean_absolute_error: 0.0851 - val_loss: 0.0132 - val_mean_absolute_error: 0.0923\n",
      "Epoch 19/100\n",
      "10/10 [==============================] - 0s 10ms/step - loss: 0.0116 - mean_absolute_error: 0.0845 - val_loss: 0.0132 - val_mean_absolute_error: 0.0920\n",
      "Epoch 20/100\n",
      "10/10 [==============================] - 0s 10ms/step - loss: 0.0115 - mean_absolute_error: 0.0840 - val_loss: 0.0130 - val_mean_absolute_error: 0.0915\n",
      "Epoch 21/100\n",
      "10/10 [==============================] - 0s 10ms/step - loss: 0.0113 - mean_absolute_error: 0.0835 - val_loss: 0.0129 - val_mean_absolute_error: 0.0910\n",
      "Epoch 22/100\n",
      "10/10 [==============================] - 0s 9ms/step - loss: 0.0112 - mean_absolute_error: 0.0829 - val_loss: 0.0127 - val_mean_absolute_error: 0.0905\n",
      "Epoch 23/100\n",
      "10/10 [==============================] - 0s 9ms/step - loss: 0.0111 - mean_absolute_error: 0.0824 - val_loss: 0.0125 - val_mean_absolute_error: 0.0898\n",
      "Epoch 24/100\n",
      "10/10 [==============================] - 0s 10ms/step - loss: 0.0109 - mean_absolute_error: 0.0819 - val_loss: 0.0124 - val_mean_absolute_error: 0.0893\n",
      "Epoch 25/100\n",
      "10/10 [==============================] - 0s 11ms/step - loss: 0.0108 - mean_absolute_error: 0.0813 - val_loss: 0.0123 - val_mean_absolute_error: 0.0888\n",
      "Epoch 26/100\n",
      "10/10 [==============================] - 0s 11ms/step - loss: 0.0106 - mean_absolute_error: 0.0808 - val_loss: 0.0121 - val_mean_absolute_error: 0.0882\n",
      "Epoch 27/100\n",
      "10/10 [==============================] - 0s 9ms/step - loss: 0.0105 - mean_absolute_error: 0.0803 - val_loss: 0.0120 - val_mean_absolute_error: 0.0878\n",
      "Epoch 28/100\n",
      "10/10 [==============================] - 0s 11ms/step - loss: 0.0104 - mean_absolute_error: 0.0799 - val_loss: 0.0118 - val_mean_absolute_error: 0.0873\n",
      "Epoch 29/100\n",
      "10/10 [==============================] - 0s 11ms/step - loss: 0.0103 - mean_absolute_error: 0.0795 - val_loss: 0.0117 - val_mean_absolute_error: 0.0867\n",
      "Epoch 30/100\n",
      "10/10 [==============================] - 0s 13ms/step - loss: 0.0101 - mean_absolute_error: 0.0790 - val_loss: 0.0116 - val_mean_absolute_error: 0.0864\n",
      "Epoch 31/100\n",
      "10/10 [==============================] - 0s 16ms/step - loss: 0.0100 - mean_absolute_error: 0.0786 - val_loss: 0.0114 - val_mean_absolute_error: 0.0858\n",
      "Epoch 32/100\n",
      "10/10 [==============================] - 0s 13ms/step - loss: 0.0099 - mean_absolute_error: 0.0782 - val_loss: 0.0113 - val_mean_absolute_error: 0.0854\n",
      "Epoch 33/100\n",
      "10/10 [==============================] - 0s 14ms/step - loss: 0.0098 - mean_absolute_error: 0.0778 - val_loss: 0.0112 - val_mean_absolute_error: 0.0849\n",
      "Epoch 34/100\n",
      "10/10 [==============================] - 0s 12ms/step - loss: 0.0097 - mean_absolute_error: 0.0773 - val_loss: 0.0111 - val_mean_absolute_error: 0.0844\n",
      "Epoch 35/100\n",
      "10/10 [==============================] - 0s 11ms/step - loss: 0.0096 - mean_absolute_error: 0.0769 - val_loss: 0.0110 - val_mean_absolute_error: 0.0838\n",
      "Epoch 36/100\n",
      "10/10 [==============================] - 0s 9ms/step - loss: 0.0095 - mean_absolute_error: 0.0765 - val_loss: 0.0109 - val_mean_absolute_error: 0.0834\n",
      "Epoch 37/100\n",
      "10/10 [==============================] - 0s 9ms/step - loss: 0.0094 - mean_absolute_error: 0.0761 - val_loss: 0.0107 - val_mean_absolute_error: 0.0828\n",
      "Epoch 38/100\n",
      "10/10 [==============================] - 0s 7ms/step - loss: 0.0093 - mean_absolute_error: 0.0758 - val_loss: 0.0105 - val_mean_absolute_error: 0.0822\n",
      "Epoch 39/100\n",
      "10/10 [==============================] - 0s 10ms/step - loss: 0.0092 - mean_absolute_error: 0.0754 - val_loss: 0.0104 - val_mean_absolute_error: 0.0817\n",
      "Epoch 40/100\n",
      "10/10 [==============================] - 0s 7ms/step - loss: 0.0091 - mean_absolute_error: 0.0750 - val_loss: 0.0104 - val_mean_absolute_error: 0.0814\n",
      "Epoch 41/100\n",
      "10/10 [==============================] - 0s 9ms/step - loss: 0.0090 - mean_absolute_error: 0.0746 - val_loss: 0.0102 - val_mean_absolute_error: 0.0809\n",
      "Epoch 42/100\n",
      "10/10 [==============================] - 0s 7ms/step - loss: 0.0089 - mean_absolute_error: 0.0743 - val_loss: 0.0101 - val_mean_absolute_error: 0.0804\n",
      "Epoch 43/100\n",
      "10/10 [==============================] - 0s 10ms/step - loss: 0.0088 - mean_absolute_error: 0.0739 - val_loss: 0.0100 - val_mean_absolute_error: 0.0799\n",
      "Epoch 44/100\n",
      "10/10 [==============================] - 0s 12ms/step - loss: 0.0087 - mean_absolute_error: 0.0734 - val_loss: 0.0099 - val_mean_absolute_error: 0.0795\n",
      "Epoch 45/100\n",
      "10/10 [==============================] - 0s 11ms/step - loss: 0.0086 - mean_absolute_error: 0.0730 - val_loss: 0.0098 - val_mean_absolute_error: 0.0791\n",
      "Epoch 46/100\n",
      "10/10 [==============================] - 0s 11ms/step - loss: 0.0085 - mean_absolute_error: 0.0725 - val_loss: 0.0096 - val_mean_absolute_error: 0.0786\n",
      "Epoch 47/100\n",
      "10/10 [==============================] - 0s 13ms/step - loss: 0.0084 - mean_absolute_error: 0.0721 - val_loss: 0.0095 - val_mean_absolute_error: 0.0781\n"
     ]
    },
    {
     "name": "stdout",
     "output_type": "stream",
     "text": [
      "Epoch 48/100\n",
      "10/10 [==============================] - 0s 12ms/step - loss: 0.0083 - mean_absolute_error: 0.0717 - val_loss: 0.0093 - val_mean_absolute_error: 0.0773\n",
      "Epoch 49/100\n",
      "10/10 [==============================] - 0s 12ms/step - loss: 0.0082 - mean_absolute_error: 0.0711 - val_loss: 0.0092 - val_mean_absolute_error: 0.0770\n",
      "Epoch 50/100\n",
      "10/10 [==============================] - 0s 16ms/step - loss: 0.0081 - mean_absolute_error: 0.0708 - val_loss: 0.0091 - val_mean_absolute_error: 0.0765\n",
      "Epoch 51/100\n",
      "10/10 [==============================] - 0s 13ms/step - loss: 0.0080 - mean_absolute_error: 0.0703 - val_loss: 0.0090 - val_mean_absolute_error: 0.0759\n",
      "Epoch 52/100\n",
      "10/10 [==============================] - 0s 15ms/step - loss: 0.0079 - mean_absolute_error: 0.0702 - val_loss: 0.0089 - val_mean_absolute_error: 0.0754\n",
      "Epoch 53/100\n",
      "10/10 [==============================] - 0s 27ms/step - loss: 0.0078 - mean_absolute_error: 0.0696 - val_loss: 0.0087 - val_mean_absolute_error: 0.0746\n",
      "Epoch 54/100\n",
      "10/10 [==============================] - 0s 11ms/step - loss: 0.0077 - mean_absolute_error: 0.0689 - val_loss: 0.0086 - val_mean_absolute_error: 0.0740\n",
      "Epoch 55/100\n",
      "10/10 [==============================] - 0s 9ms/step - loss: 0.0076 - mean_absolute_error: 0.0685 - val_loss: 0.0084 - val_mean_absolute_error: 0.0732\n",
      "Epoch 56/100\n",
      "10/10 [==============================] - 0s 8ms/step - loss: 0.0075 - mean_absolute_error: 0.0680 - val_loss: 0.0083 - val_mean_absolute_error: 0.0724\n",
      "Epoch 57/100\n",
      "10/10 [==============================] - 0s 8ms/step - loss: 0.0074 - mean_absolute_error: 0.0675 - val_loss: 0.0081 - val_mean_absolute_error: 0.0718\n",
      "Epoch 58/100\n",
      "10/10 [==============================] - 0s 10ms/step - loss: 0.0073 - mean_absolute_error: 0.0671 - val_loss: 0.0080 - val_mean_absolute_error: 0.0711\n",
      "Epoch 59/100\n",
      "10/10 [==============================] - 0s 8ms/step - loss: 0.0072 - mean_absolute_error: 0.0667 - val_loss: 0.0079 - val_mean_absolute_error: 0.0704\n",
      "Epoch 60/100\n",
      "10/10 [==============================] - 0s 9ms/step - loss: 0.0071 - mean_absolute_error: 0.0662 - val_loss: 0.0077 - val_mean_absolute_error: 0.0698\n",
      "Epoch 61/100\n",
      "10/10 [==============================] - 0s 9ms/step - loss: 0.0070 - mean_absolute_error: 0.0658 - val_loss: 0.0075 - val_mean_absolute_error: 0.0692\n",
      "Epoch 62/100\n",
      "10/10 [==============================] - 0s 7ms/step - loss: 0.0069 - mean_absolute_error: 0.0653 - val_loss: 0.0075 - val_mean_absolute_error: 0.0684\n",
      "Epoch 63/100\n",
      "10/10 [==============================] - 0s 8ms/step - loss: 0.0067 - mean_absolute_error: 0.0647 - val_loss: 0.0073 - val_mean_absolute_error: 0.0678\n",
      "Epoch 64/100\n",
      "10/10 [==============================] - 0s 9ms/step - loss: 0.0066 - mean_absolute_error: 0.0642 - val_loss: 0.0072 - val_mean_absolute_error: 0.0671\n",
      "Epoch 65/100\n",
      "10/10 [==============================] - 0s 8ms/step - loss: 0.0065 - mean_absolute_error: 0.0635 - val_loss: 0.0070 - val_mean_absolute_error: 0.0664\n",
      "Epoch 66/100\n",
      "10/10 [==============================] - 0s 7ms/step - loss: 0.0064 - mean_absolute_error: 0.0631 - val_loss: 0.0069 - val_mean_absolute_error: 0.0656\n",
      "Epoch 67/100\n",
      "10/10 [==============================] - 0s 7ms/step - loss: 0.0063 - mean_absolute_error: 0.0626 - val_loss: 0.0068 - val_mean_absolute_error: 0.0649\n",
      "Epoch 68/100\n",
      "10/10 [==============================] - 0s 9ms/step - loss: 0.0061 - mean_absolute_error: 0.0620 - val_loss: 0.0066 - val_mean_absolute_error: 0.0641\n",
      "Epoch 69/100\n",
      "10/10 [==============================] - 0s 6ms/step - loss: 0.0060 - mean_absolute_error: 0.0614 - val_loss: 0.0064 - val_mean_absolute_error: 0.0633\n",
      "Epoch 70/100\n",
      "10/10 [==============================] - 0s 7ms/step - loss: 0.0059 - mean_absolute_error: 0.0608 - val_loss: 0.0063 - val_mean_absolute_error: 0.0625\n",
      "Epoch 71/100\n",
      "10/10 [==============================] - 0s 7ms/step - loss: 0.0058 - mean_absolute_error: 0.0602 - val_loss: 0.0062 - val_mean_absolute_error: 0.0618\n",
      "Epoch 72/100\n",
      "10/10 [==============================] - 0s 9ms/step - loss: 0.0056 - mean_absolute_error: 0.0597 - val_loss: 0.0060 - val_mean_absolute_error: 0.0609\n",
      "Epoch 73/100\n",
      "10/10 [==============================] - 0s 8ms/step - loss: 0.0055 - mean_absolute_error: 0.0589 - val_loss: 0.0058 - val_mean_absolute_error: 0.0601\n",
      "Epoch 74/100\n",
      "10/10 [==============================] - 0s 7ms/step - loss: 0.0054 - mean_absolute_error: 0.0581 - val_loss: 0.0057 - val_mean_absolute_error: 0.0592\n",
      "Epoch 75/100\n",
      "10/10 [==============================] - 0s 7ms/step - loss: 0.0052 - mean_absolute_error: 0.0574 - val_loss: 0.0055 - val_mean_absolute_error: 0.0583\n",
      "Epoch 76/100\n",
      "10/10 [==============================] - 0s 7ms/step - loss: 0.0051 - mean_absolute_error: 0.0567 - val_loss: 0.0054 - val_mean_absolute_error: 0.0573\n",
      "Epoch 77/100\n",
      "10/10 [==============================] - 0s 7ms/step - loss: 0.0049 - mean_absolute_error: 0.0559 - val_loss: 0.0052 - val_mean_absolute_error: 0.0562\n",
      "Epoch 78/100\n",
      "10/10 [==============================] - 0s 7ms/step - loss: 0.0048 - mean_absolute_error: 0.0550 - val_loss: 0.0050 - val_mean_absolute_error: 0.0555\n",
      "Epoch 79/100\n",
      "10/10 [==============================] - 0s 9ms/step - loss: 0.0045 - mean_absolute_error: 0.0537 - val_loss: 0.0048 - val_mean_absolute_error: 0.0545\n",
      "Epoch 80/100\n",
      "10/10 [==============================] - 0s 14ms/step - loss: 0.0043 - mean_absolute_error: 0.0526 - val_loss: 0.0044 - val_mean_absolute_error: 0.0524\n",
      "Epoch 81/100\n",
      "10/10 [==============================] - 0s 14ms/step - loss: 0.0038 - mean_absolute_error: 0.0502 - val_loss: 0.0040 - val_mean_absolute_error: 0.0498\n",
      "Epoch 82/100\n",
      "10/10 [==============================] - 0s 14ms/step - loss: 0.0034 - mean_absolute_error: 0.0468 - val_loss: 0.0034 - val_mean_absolute_error: 0.0460\n",
      "Epoch 83/100\n",
      "10/10 [==============================] - 0s 12ms/step - loss: 0.0029 - mean_absolute_error: 0.0432 - val_loss: 0.0030 - val_mean_absolute_error: 0.0426\n",
      "Epoch 84/100\n",
      "10/10 [==============================] - 0s 17ms/step - loss: 0.0025 - mean_absolute_error: 0.0402 - val_loss: 0.0026 - val_mean_absolute_error: 0.0398\n",
      "Epoch 85/100\n",
      "10/10 [==============================] - 0s 13ms/step - loss: 0.0022 - mean_absolute_error: 0.0374 - val_loss: 0.0023 - val_mean_absolute_error: 0.0375\n",
      "Epoch 86/100\n",
      "10/10 [==============================] - 0s 12ms/step - loss: 0.0019 - mean_absolute_error: 0.0350 - val_loss: 0.0020 - val_mean_absolute_error: 0.0347\n",
      "Epoch 87/100\n",
      "10/10 [==============================] - 0s 10ms/step - loss: 0.0016 - mean_absolute_error: 0.0325 - val_loss: 0.0017 - val_mean_absolute_error: 0.0321\n",
      "Epoch 88/100\n",
      "10/10 [==============================] - 0s 9ms/step - loss: 0.0014 - mean_absolute_error: 0.0299 - val_loss: 0.0015 - val_mean_absolute_error: 0.0302\n",
      "Epoch 89/100\n",
      "10/10 [==============================] - 0s 8ms/step - loss: 0.0012 - mean_absolute_error: 0.0277 - val_loss: 0.0013 - val_mean_absolute_error: 0.0277\n",
      "Epoch 90/100\n",
      "10/10 [==============================] - 0s 9ms/step - loss: 0.0010 - mean_absolute_error: 0.0258 - val_loss: 0.0011 - val_mean_absolute_error: 0.0260\n",
      "Epoch 91/100\n",
      "10/10 [==============================] - 0s 9ms/step - loss: 8.6436e-04 - mean_absolute_error: 0.0235 - val_loss: 9.3824e-04 - val_mean_absolute_error: 0.0234\n",
      "Epoch 92/100\n",
      "10/10 [==============================] - 0s 9ms/step - loss: 7.5160e-04 - mean_absolute_error: 0.0219 - val_loss: 8.2414e-04 - val_mean_absolute_error: 0.0218\n",
      "Epoch 93/100\n",
      "10/10 [==============================] - 0s 9ms/step - loss: 6.4221e-04 - mean_absolute_error: 0.0201 - val_loss: 7.1861e-04 - val_mean_absolute_error: 0.0202\n",
      "Epoch 94/100\n",
      "10/10 [==============================] - 0s 8ms/step - loss: 5.6248e-04 - mean_absolute_error: 0.0188 - val_loss: 6.1843e-04 - val_mean_absolute_error: 0.0183\n",
      "Epoch 95/100\n",
      "10/10 [==============================] - 0s 9ms/step - loss: 4.8299e-04 - mean_absolute_error: 0.0172 - val_loss: 5.6190e-04 - val_mean_absolute_error: 0.0173\n",
      "Epoch 96/100\n",
      "10/10 [==============================] - 0s 8ms/step - loss: 4.2512e-04 - mean_absolute_error: 0.0160 - val_loss: 4.9822e-04 - val_mean_absolute_error: 0.0161\n",
      "Epoch 97/100\n"
     ]
    },
    {
     "name": "stdout",
     "output_type": "stream",
     "text": [
      "10/10 [==============================] - 0s 10ms/step - loss: 3.7648e-04 - mean_absolute_error: 0.0150 - val_loss: 4.5167e-04 - val_mean_absolute_error: 0.0150\n",
      "Epoch 98/100\n",
      "10/10 [==============================] - 0s 9ms/step - loss: 3.5054e-04 - mean_absolute_error: 0.0145 - val_loss: 4.1874e-04 - val_mean_absolute_error: 0.0143\n",
      "Epoch 99/100\n",
      "10/10 [==============================] - 0s 8ms/step - loss: 3.1167e-04 - mean_absolute_error: 0.0137 - val_loss: 3.9173e-04 - val_mean_absolute_error: 0.0136\n",
      "Epoch 100/100\n",
      "10/10 [==============================] - 0s 7ms/step - loss: 2.9726e-04 - mean_absolute_error: 0.0134 - val_loss: 3.6580e-04 - val_mean_absolute_error: 0.0134\n"
     ]
    }
   ],
   "source": [
    "history = model.fit(X_train, y_train, epochs=100, validation_split=0.2)\n"
   ]
  },
  {
   "cell_type": "markdown",
   "id": "d306b9b1",
   "metadata": {},
   "source": [
    "## Visualizing Model Performance"
   ]
  },
  {
   "cell_type": "code",
   "execution_count": 16,
   "id": "1328c065",
   "metadata": {},
   "outputs": [],
   "source": [
    "# Define needed variables\n",
    "tr_acc = history.history['mean_absolute_error']\n",
    "tr_loss = history.history['loss']\n",
    "val_acc = history.history['val_mean_absolute_error']\n",
    "val_loss = history.history['val_loss']\n",
    "index_loss = np.argmin(val_loss)\n",
    "val_lowest = val_loss[index_loss]\n",
    "index_acc = np.argmax(val_acc)\n",
    "acc_highest = val_acc[index_acc]\n",
    "Epochs = [i+1 for i in range(len(tr_acc))]\n",
    "loss_label = f'best epoch= {str(index_loss + 1)}'\n",
    "acc_label = f'best epoch= {str(index_acc + 1)}'\n",
    "\n"
   ]
  },
  {
   "cell_type": "code",
   "execution_count": 17,
   "id": "4541a0f5",
   "metadata": {},
   "outputs": [
    {
     "data": {
      "image/png": "[encoded data removed]",
      "text/plain": [
       "<Figure size 2000x800 with 2 Axes>"
      ]
     },
     "metadata": {},
     "output_type": "display_data"
    }
   ],
   "source": [
    "# Plot training history\n",
    "plt.figure(figsize= (20, 8))\n",
    "plt.style.use('fivethirtyeight')\n",
    "\n",
    "plt.subplot(1, 2, 1)\n",
    "plt.plot(Epochs, tr_loss, 'r', label= 'Training loss')\n",
    "plt.plot(Epochs, val_loss, 'g', label= 'Validation loss')\n",
    "plt.scatter(index_loss + 1, val_lowest, s= 150, c= 'blue', label= loss_label)\n",
    "plt.title('Training and Validation Loss')\n",
    "plt.xlabel('Epochs')\n",
    "plt.ylabel('Loss')\n",
    "plt.legend()\n",
    "\n",
    "plt.subplot(1, 2, 2)\n",
    "plt.plot(Epochs, tr_acc, 'r', label= 'Training Accuracy')\n",
    "plt.plot(Epochs, val_acc, 'g', label= 'Validation Accuracy')\n",
    "plt.scatter(index_acc + 1 , acc_highest, s= 150, c= 'blue', label= acc_label)\n",
    "plt.title('Training and Validation Accuracy')\n",
    "plt.xlabel('Epochs')\n",
    "plt.ylabel('Accuracy')\n",
    "plt.legend()\n",
    "\n",
    "plt.tight_layout\n",
    "plt.show()\n"
   ]
  },
  {
   "cell_type": "markdown",
   "id": "d6f541b3",
   "metadata": {},
   "source": [
    "## Evaluate model"
   ]
  },
  {
   "cell_type": "code",
   "execution_count": 18,
   "id": "cd714252",
   "metadata": {},
   "outputs": [
    {
     "name": "stdout",
     "output_type": "stream",
     "text": [
      "4/4 [==============================] - 0s 3ms/step\n"
     ]
    }
   ],
   "source": [
    "y_pred = model.predict(X_test)"
   ]
  },
  {
   "cell_type": "code",
   "execution_count": 19,
   "id": "93f30a92",
   "metadata": {},
   "outputs": [
    {
     "name": "stdout",
     "output_type": "stream",
     "text": [
      "R2 Score= 0.9873831352400517\n"
     ]
    }
   ],
   "source": [
    "from sklearn.metrics import r2_score\n",
    "\n",
    "R2 = r2_score(y_test, y_pred)\n",
    "print(\"R2 Score=\",R2 )\n"
   ]
  },
  {
   "cell_type": "code",
   "execution_count": null,
   "id": "3530cf3f",
   "metadata": {},
   "outputs": [],
   "source": []
  }
 ],
 "metadata": {
  "kernelspec": {
   "display_name": "Python 3 (ipykernel)",
   "language": "python",
   "name": "python3"
  },
  "language_info": {
   "codemirror_mode": {
    "name": "ipython",
    "version": 3
   },
   "file_extension": ".py",
   "mimetype": "text/x-python",
   "name": "python",
   "nbconvert_exporter": "python",
   "pygments_lexer": "ipython3",
   "version": "3.11.5"
  }
 },
 "nbformat": 4,
 "nbformat_minor": 5
}
